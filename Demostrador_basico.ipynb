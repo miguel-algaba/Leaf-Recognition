{
  "nbformat": 4,
  "nbformat_minor": 0,
  "metadata": {
    "colab": {
      "provenance": [],
      "authorship_tag": "ABX9TyM7xjWcGFHSyzZ1yc4kgNDG",
      "include_colab_link": true
    },
    "kernelspec": {
      "name": "python3",
      "display_name": "Python 3"
    },
    "language_info": {
      "name": "python"
    }
  },
  "cells": [
    {
      "cell_type": "markdown",
      "metadata": {
        "id": "view-in-github",
        "colab_type": "text"
      },
      "source": [
        "<a href=\"https://colab.research.google.com/github/miguel-algaba/Leaf-Recognition/blob/main/Demostrador_basico.ipynb\" target=\"_parent\"><img src=\"https://colab.research.google.com/assets/colab-badge.svg\" alt=\"Open In Colab\"/></a>"
      ]
    },
    {
      "cell_type": "code",
      "execution_count": null,
      "metadata": {
        "id": "PGcyU3dQzO6Q"
      },
      "outputs": [],
      "source": [
        "!pip install ultralytics\n"
      ]
    },
    {
      "cell_type": "code",
      "source": [
        "!pip install supervision"
      ],
      "metadata": {
        "collapsed": true,
        "id": "_MjERy5r0mjE"
      },
      "execution_count": null,
      "outputs": []
    },
    {
      "cell_type": "code",
      "source": [
        "# Importar las librerías necesarias\n",
        "import cv2\n",
        "import numpy as np\n",
        "from PIL import Image, ExifTags\n",
        "import matplotlib.pyplot as plt\n",
        "from ultralytics import YOLO\n",
        "from supervision import BoxAnnotator\n",
        "from supervision.detection.core import Detections\n",
        "from google.colab import files\n",
        "import io\n",
        "\n",
        "# Diccionario de clases\n",
        "dic = {0: \"Liquidambar. Liquidambar styraciflua\",\n",
        "       1: \"Castaño de indias. Aesculus hippocastanum\",\n",
        "       2: \"Cinamomo. Melia azedarach\",\n",
        "       3: \"Falsa acacia. Robinia pseudoacacia\",\n",
        "       4: \"Ciruelo rojo. Prunus cerasifera\",\n",
        "       5: \"Aligustre del Japón. Ligustrum japonicum\",\n",
        "       6: \"Arce real. Acer platanoides\",\n",
        "       7: \"Olivo. Olea europaea\",\n",
        "       8: \"Olmo de Siberia. Ulmus pumila\",\n",
        "       9: \"Pino carrasco. Pinus halepensis\",\n",
        "       10: \"Pino piñonero.Pinus pinera\",\n",
        "       11: \"Tuya occidental.Thuja occidentalis\",\n",
        "       12: \"Larix siberiana.Larix sibirica\",\n",
        "       13: \"Nuez americana.Staphylea trifolia\",\n",
        "       14: \"Roble de los postes.Quercus stellata\",\n",
        "       15: \"Roble de agua.Quercus nigra\",\n",
        "       16: \"Roble castaño.Quercus prinus\",\n",
        "       17: \"Magnolia de hojas grandes. Magnolia macrophylla\",\n",
        "       18: \"Tulipífero de Virginia.Liriodendron tulipifera\",\n",
        "       19: \"Higuera.Ficus carica\",\n",
        "       20: \"Olmo rojo.Ulmus rubra\",\n",
        "       21: \"Populus grandidentata. Chopo americano\",\n",
        "       22: \"Espino blanco helado.Crataegus pruinosa\",\n",
        "       23: \"Laurel de nieve.Chionanthus virginicus\",\n",
        "       24: \"Catalpa común. Catalpa bignonioides\",\n",
        "       25: \"Arce de Pensilvania.Acer pensylvanicum\",\n",
        "       26: \"Tilo norteño.Tilia cordata\",\n",
        "       27: \"Roble negro del este. Quercus velutina\",\n",
        "       28: \"Encino rojo de pantano.Quercus Shumardii\",\n",
        "       29: \"Encino de piedra.Quercus muehlenbergii\"\n",
        "       }\n",
        "\n",
        "# Función para corregir la orientación de la imagen\n",
        "def correct_image_orientation(image):\n",
        "    try:\n",
        "        for orientation in ExifTags.TAGS.keys():\n",
        "            if ExifTags.TAGS[orientation] == 'Orientation':\n",
        "                break\n",
        "        exif = image._getexif()\n",
        "        if exif is not None:\n",
        "            if exif[orientation] == 3:\n",
        "                image = image.rotate(180, expand=True)\n",
        "            elif exif[orientation] == 6:\n",
        "                image = image.rotate(270, expand=True)\n",
        "            elif exif[orientation] == 8:\n",
        "                image = image.rotate(90, expand=True)\n",
        "    except (AttributeError, KeyError, IndexError):\n",
        "        pass\n",
        "    return image\n",
        "\n",
        "# Cargar el modelo de YOLO\n",
        "model = YOLO(\"best.pt\")\n",
        "\n",
        "# Función para realizar la predicción\n",
        "def predict_and_display(image_path):\n",
        "    img = cv2.imread(image_path)\n",
        "    results = model.predict(img, imgsz=256, conf=0.5)\n",
        "\n",
        "    for r in results:\n",
        "        im_array = r.plot()  # Plot a BGR numpy array of predictions\n",
        "\n",
        "        # Mostrar la imagen con anotaciones\n",
        "        plt.figure(figsize=(10, 10))\n",
        "        plt.imshow(im_array[..., ::-1])  # Convert BGR to RGB\n",
        "        plt.axis('off')\n",
        "        plt.show()\n",
        "\n",
        "        # Contar las clases detectadas\n",
        "        l = [int(r.boxes.data[i - 1][5]) for i in range(len(r.boxes.data))]\n",
        "        d = dict(zip(l, map(lambda x: l.count(x), l)))\n",
        "\n",
        "        for j in range(len(d.values())):\n",
        "            print(f\"Hay {list(d.values())[j]} hojas del tipo {list(d.keys())[j]}. Hoja de {dic[list(d.keys())[j]]}\")\n",
        "\n",
        "# Cargar una imagen desde el sistema de archivos\n",
        "uploaded = files.upload()\n",
        "\n",
        "# Predecir y mostrar resultados para cada imagen cargada\n",
        "for filename in uploaded.keys():\n",
        "    image_path = filename\n",
        "    predict_and_display(image_path)"
      ],
      "metadata": {
        "id": "rtavwpc70Y_T"
      },
      "execution_count": null,
      "outputs": []
    }
  ]
}